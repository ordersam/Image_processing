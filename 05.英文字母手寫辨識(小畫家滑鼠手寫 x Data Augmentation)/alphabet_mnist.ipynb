{
 "cells": [
  {
   "cell_type": "code",
   "execution_count": 2,
   "metadata": {},
   "outputs": [],
   "source": [
    "# 繪圖設定字體顏色(否則黑色會看不到)\n",
    "import matplotlib as mpl\n",
    "COLOR1 = 'red'\n",
    "COLOR2 = 'blue'\n",
    "mpl.rcParams['text.color'] = COLOR1\n",
    "mpl.rcParams['axes.labelcolor'] = COLOR2\n",
    "mpl.rcParams['xtick.color'] = COLOR2\n",
    "mpl.rcParams['ytick.color'] = COLOR2"
   ]
  },
  {
   "cell_type": "code",
   "execution_count": 3,
   "metadata": {
    "scrolled": true
   },
   "outputs": [
    {
     "name": "stdout",
     "output_type": "stream",
     "text": [
      "Loading images...\n",
      "len(X) = 260 len(y) = 260\n",
      "Model: \"sequential_1\"\n",
      "_________________________________________________________________\n",
      "Layer (type)                 Output Shape              Param #   \n",
      "=================================================================\n",
      "conv2d_4 (Conv2D)            (None, 24, 24, 32)        832       \n",
      "_________________________________________________________________\n",
      "conv2d_5 (Conv2D)            (None, 20, 20, 32)        25632     \n",
      "_________________________________________________________________\n",
      "max_pooling2d_2 (MaxPooling2 (None, 10, 10, 32)        0         \n",
      "_________________________________________________________________\n",
      "dropout_3 (Dropout)          (None, 10, 10, 32)        0         \n",
      "_________________________________________________________________\n",
      "conv2d_6 (Conv2D)            (None, 8, 8, 64)          18496     \n",
      "_________________________________________________________________\n",
      "conv2d_7 (Conv2D)            (None, 6, 6, 64)          36928     \n",
      "_________________________________________________________________\n",
      "max_pooling2d_3 (MaxPooling2 (None, 3, 3, 64)          0         \n",
      "_________________________________________________________________\n",
      "dropout_4 (Dropout)          (None, 3, 3, 64)          0         \n",
      "_________________________________________________________________\n",
      "flatten_1 (Flatten)          (None, 576)               0         \n",
      "_________________________________________________________________\n",
      "dense_2 (Dense)              (None, 256)               147712    \n",
      "_________________________________________________________________\n",
      "dropout_5 (Dropout)          (None, 256)               0         \n",
      "_________________________________________________________________\n",
      "dense_3 (Dense)              (None, 52)                13364     \n",
      "=================================================================\n",
      "Total params: 242,964\n",
      "Trainable params: 242,964\n",
      "Non-trainable params: 0\n",
      "_________________________________________________________________\n",
      "None\n"
     ]
    },
    {
     "data": {
      "image/png": "[encoded data removed]",
      "text/plain": [
       "<Figure size 432x288 with 1 Axes>"
      ]
     },
     "metadata": {
      "needs_background": "light"
     },
     "output_type": "display_data"
    },
    {
     "name": "stdout",
     "output_type": "stream",
     "text": [
      "預測結果index = [ 0 29]\n",
      "預測結果 = ['A', 'd']\n"
     ]
    }
   ],
   "source": [
    "# 用自己的手繪圖片辨識(A-Z)-skimage.io.imread()讀檔\n",
    "    # 已經轉成0-1，白色1、黑色0\n",
    "import os\n",
    "import numpy as np\n",
    "from matplotlib import pyplot as plt\n",
    "%matplotlib inline\n",
    "\n",
    "from skimage import data, color, io\n",
    "from skimage.transform import rescale, resize\n",
    "import tensorflow as tf\n",
    "\n",
    "# 讀取圖檔 + reshape + 黑白轉換\n",
    "def ReadImageFile(filename):\n",
    "    image1 = io.imread(filename, as_gray=True)\n",
    "    image_resized = resize(image1, (28, 28), anti_aliasing=True)    \n",
    "    X1 = image_resized.reshape(28, 28, 1) #/ 255\n",
    "    return np.abs(1 - X1)\n",
    "\n",
    "# 讀取資料夾內所有檔案(含次目錄)\n",
    "IMAGE_DIRECTORY = './pic/a_z'\n",
    "def load_data():\n",
    "    print(\"Loading images...\")\n",
    "    X = []     # 存放 每個圖檔矩陣\n",
    "    y = []     # 存放 數字結果label，注意元素是str\n",
    "    for dirpath, dirnames, filenames in os.walk(IMAGE_DIRECTORY):\n",
    "        for filename in [f for f in filenames if f.endswith(\".png\")]:\n",
    "            y.append(filename[0])\n",
    "            X.append(ReadImageFile(dirpath + '/' + filename)) # os.path.join(dirpath, filename)))\n",
    "    return X, y\n",
    "\n",
    "X, y = load_data()\n",
    "print('len(X) =', len(X), 'len(y) =', len(y))\n",
    "\n",
    "'''\n",
    "# 資料量太少，不切割\n",
    "X_train.shape, X_test.shape, y_train.shape, y_test.shape = (260, 28, 28, 1), (260, 28, 28, 1), (260,), (260,)\n",
    "'''\n",
    "X_train, X_test, y_train, y_test = np.array(X), np.array(X), np.array(y), np.array(y)\n",
    "\n",
    "# one-hot encoding：shape=(260, 52)\n",
    "from sklearn.preprocessing import OneHotEncoder\n",
    "ohe = OneHotEncoder()\n",
    "# 物件轉array:.toarray()\n",
    "y_TrainOneHot = ohe.fit_transform(y_train.reshape(-1, 1)).toarray()\n",
    "y_TestOneHot = ohe.fit_transform(y_test.reshape(-1, 1)).toarray()\n",
    "\n",
    "# 模型\n",
    "model = tf.keras.models.Sequential()\n",
    "\n",
    "model.add(tf.keras.layers.Conv2D(filters=32, kernel_size=(5, 5), activation='relu', input_shape=(28, 28, 1)))\n",
    "model.add(tf.keras.layers.Conv2D(filters=32, kernel_size=(5, 5), activation='relu'))\n",
    "model.add(tf.keras.layers.MaxPooling2D(pool_size=(2, 2)))\n",
    "model.add(tf.keras.layers.Dropout(rate=0.25))\n",
    "\n",
    "model.add(tf.keras.layers.Conv2D(filters=64, kernel_size=(3, 3), activation='relu'))\n",
    "model.add(tf.keras.layers.Conv2D(filters=64, kernel_size=(3, 3), activation='relu'))\n",
    "model.add(tf.keras.layers.MaxPooling2D(pool_size=(2, 2)))\n",
    "model.add(tf.keras.layers.Dropout(rate=0.25))\n",
    "\n",
    "model.add(tf.keras.layers.Flatten())\n",
    "model.add(tf.keras.layers.Dense(256, activation='relu'))\n",
    "model.add(tf.keras.layers.Dropout(rate=0.5))\n",
    "model.add(tf.keras.layers.Dense(52, activation='softmax'))\n",
    "    # 編譯: 選擇損失函數、優化方法及成效衡量方式\n",
    "model.compile(loss='categorical_crossentropy', optimizer='adam', metrics=['accuracy']) \n",
    "print(model.summary())\n",
    "\n",
    "# 訓練：產生一百批次圖片\n",
    "epochs, batch_size = 500, 26\n",
    "datagen = tf.keras.preprocessing.image.ImageDataGenerator(\n",
    "    rotation_range=10, zoom_range=0.1, width_shift_range=0.1, height_shift_range=0.1)\n",
    "history = model.fit_generator(\n",
    "    datagen.flow(X_train, y_TrainOneHot, batch_size=batch_size), \n",
    "    steps_per_epoch=2, epochs=epochs, verbose=0)\n",
    "\n",
    "# 繪圖\n",
    "def show_train_history(train_history, train, validation):\n",
    "    plt.plot(train_history.history[train])\n",
    "    plt.plot(train_history.history[validation])\n",
    "    plt.title('Train History')\n",
    "    plt.xlabel('Epoch')\n",
    "    plt.ylabel('train')\n",
    "    plt.legend([train, validation], loc='upper left')\n",
    "    plt.show()\n",
    "show_train_history(history, 'accuracy', 'loss')\n",
    "\n",
    "# 預測\n",
    "X = []\n",
    "X.append(ReadImageFile('./pic/testA.png'))\n",
    "X.append(ReadImageFile('./pic/testd.png'))\n",
    "# 'ABCDEFGHIJKLMNOPQRSTUVWXYZabcdefghijklmnopqrstuvwxyz'\n",
    "import string\n",
    "alphabet = string.ascii_uppercase + string.ascii_lowercase\n",
    "print('預測結果index =', np.argmax(model.predict(np.array(X)), axis=-1))\n",
    "print('預測結果 =', [alphabet[i] for i in model.predict_classes(np.array(X))])"
   ]
  }
 ],
 "metadata": {
  "kernelspec": {
   "display_name": "Python 3",
   "language": "python",
   "name": "python3"
  },
  "language_info": {
   "codemirror_mode": {
    "name": "ipython",
    "version": 3
   },
   "file_extension": ".py",
   "mimetype": "text/x-python",
   "name": "python",
   "nbconvert_exporter": "python",
   "pygments_lexer": "ipython3",
   "version": "3.7.6"
  }
 },
 "nbformat": 4,
 "nbformat_minor": 4
}
